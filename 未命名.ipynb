{
 "cells": [
  {
   "cell_type": "code",
   "execution_count": 1,
   "id": "54e65612",
   "metadata": {},
   "outputs": [],
   "source": [
    "import time\n",
    "import copy\n",
    "import random\n",
    "import math"
   ]
  },
  {
   "cell_type": "code",
   "execution_count": 2,
   "id": "daa317a0",
   "metadata": {},
   "outputs": [],
   "source": [
    "class Bin:\n",
    "    def __init__(self, capacity):\n",
    "        self.item_list = []\n",
    "        self.capacity = capacity\n",
    "        self.cap_left = capacity"
   ]
  },
  {
   "cell_type": "code",
   "execution_count": 3,
   "id": "1453abdd",
   "metadata": {},
   "outputs": [],
   "source": [
    "def clear_empty_bin(bin_list):\n",
    "    processed_bin_list = []\n",
    "    for bin in bin_list:\n",
    "        if bin.item_list:\n",
    "            processed_bin_list.append(bin)\n",
    "    return processed_bin_list"
   ]
  },
  {
   "cell_type": "code",
   "execution_count": 4,
   "id": "5dea2db9",
   "metadata": {},
   "outputs": [],
   "source": [
    "def split(bin_list, average_item_number, capacity, volume_list, bin_index=None):\n",
    "    bin_list = clear_empty_bin(bin_list)\n",
    "    # randomly choose a bin in which the number of items exceeds the average item numbers per bin\n",
    "    if bin_index is None:\n",
    "        bin_index = random.randint(0, len(bin_list) - 1)\n",
    "        while bin_list[bin_index].cap_left <= average_item_number:\n",
    "            bin_index = random.randint(0, len(bin_list) - 1)\n",
    "    new_bin = Bin(capacity)\n",
    "    random_item_index_list = random.sample(bin_list[bin_index].item_list, int(len(bin_list[bin_index].item_list) / 2))\n",
    "    for random_item_index in random_item_index_list:\n",
    "        bin_list[bin_index].item_list.remove(random_item_index)\n",
    "        bin_list[bin_index].cap_left = bin_list[bin_index].cap_left + volume_list[random_item_index]\n",
    "        new_bin.item_list.append(random_item_index)\n",
    "        new_bin.cap_left = new_bin.cap_left - volume_list[random_item_index]\n",
    "    bin_list.append(new_bin)\n",
    "    return clear_empty_bin(bin_list)"
   ]
  },
  {
   "cell_type": "code",
   "execution_count": 5,
   "id": "98523f43",
   "metadata": {},
   "outputs": [],
   "source": [
    "bin1 = Bin(100)\n",
    "bin2 = Bin(100)\n",
    "bin3 = Bin(100)\n",
    "bin4 = Bin(100)\n",
    "bin1.item_list = [0,1,2,3,4]\n",
    "bin2.item_list = [5,6,7,8]\n",
    "bin3.item_list = [9,10,11,12,13,14]\n",
    "bin4.item_list = [15,16,17,18,19]\n",
    "bin_list = [bin1,bin2,bin3,bin4]\n",
    "volume_list = [25,33,1,2,4,30,20,20,30,15,14,15,14,15,14,15,14,15,14,30]"
   ]
  },
  {
   "cell_type": "code",
   "execution_count": 6,
   "id": "fb2b14da",
   "metadata": {},
   "outputs": [
    {
     "data": {
      "text/plain": [
       "[<__main__.Bin at 0x7fefe013f640>,\n",
       " <__main__.Bin at 0x7fefe013f5e0>,\n",
       " <__main__.Bin at 0x7fefe013f6a0>,\n",
       " <__main__.Bin at 0x7fefe013f610>,\n",
       " <__main__.Bin at 0x7fefe013f040>]"
      ]
     },
     "execution_count": 6,
     "metadata": {},
     "output_type": "execute_result"
    }
   ],
   "source": [
    "split(bin_list, 5, 100, volume_list, bin_index=None)"
   ]
  },
  {
   "cell_type": "code",
   "execution_count": 7,
   "id": "52995c64",
   "metadata": {},
   "outputs": [
    {
     "name": "stdout",
     "output_type": "stream",
     "text": [
      "[0, 1, 2, 3, 4]\n",
      "[5, 6, 7, 8]\n",
      "[10, 13, 14]\n",
      "[15, 16, 17, 18, 19]\n"
     ]
    }
   ],
   "source": [
    "for bin in bin_list:\n",
    "    print((bin.item_list))"
   ]
  },
  {
   "cell_type": "code",
   "execution_count": null,
   "id": "2701a4e8",
   "metadata": {},
   "outputs": [],
   "source": []
  }
 ],
 "metadata": {
  "kernelspec": {
   "display_name": "Python 3 (ipykernel)",
   "language": "python",
   "name": "python3"
  },
  "language_info": {
   "codemirror_mode": {
    "name": "ipython",
    "version": 3
   },
   "file_extension": ".py",
   "mimetype": "text/x-python",
   "name": "python",
   "nbconvert_exporter": "python",
   "pygments_lexer": "ipython3",
   "version": "3.9.7"
  }
 },
 "nbformat": 4,
 "nbformat_minor": 5
}
