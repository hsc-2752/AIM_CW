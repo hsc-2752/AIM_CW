{
 "cells": [
  {
   "cell_type": "code",
   "execution_count": 1,
   "id": "54e65612",
   "metadata": {},
   "outputs": [],
   "source": [
    "import time\n",
    "import copy\n",
    "import random\n",
    "import math"
   ]
  },
  {
   "cell_type": "code",
   "execution_count": null,
   "id": "5dea2db9",
   "metadata": {},
   "outputs": [],
   "source": [
    "solution_file_name = 'binpack3_sln.txt'   \n",
    "\n",
    "# write solution of single problem to the file \n",
    "def write_to_file(solution,solution_file_name):\n",
    "    file_handle = open(solution_file_name,mode = 'a')\n",
    "    file_handle.write(solution.problem.instance_id + '\\n')\n",
    "    file_handle.write(\" obj=   \"+solution.problem.best_record+\"   \"+solution.get_objective()+'\\n')\n",
    "    for bin in solution.bin_list:\n",
    "        for item in bin.item_list:\n",
    "            file_handle.write(item)\n",
    "        file_handle.write('\\n')\n",
    "    file_handle.close()"
   ]
  }
 ],
 "metadata": {
  "kernelspec": {
   "display_name": "Python 3 (ipykernel)",
   "language": "python",
   "name": "python3"
  },
  "language_info": {
   "codemirror_mode": {
    "name": "ipython",
    "version": 3
   },
   "file_extension": ".py",
   "mimetype": "text/x-python",
   "name": "python",
   "nbconvert_exporter": "python",
   "pygments_lexer": "ipython3",
   "version": "3.9.7"
  }
 },
 "nbformat": 4,
 "nbformat_minor": 5
}
