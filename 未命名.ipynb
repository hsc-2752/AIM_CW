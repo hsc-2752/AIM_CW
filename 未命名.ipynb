{
 "cells": [
  {
   "cell_type": "code",
   "execution_count": null,
   "id": "54e65612",
   "metadata": {},
   "outputs": [],
   "source": [
    "import time\n",
    "import copy\n",
    "import random\n",
    "import math\n",
    "\n",
    "\n",
    "class Bin:\n",
    "    def __init__(self, capacity):\n",
    "        self.item_list = []\n",
    "        self.capacity = capacity\n",
    "        self.cap_left = capacity\n",
    "\n",
    "\n",
    "class Solution:\n",
    "    def __init__(self, problem):\n",
    "        self.problem = problem\n",
    "        self.objective = 0\n",
    "        self.feasibility = False\n",
    "        self.bin_list = []\n",
    "\n",
    "class Problem:\n",
    "    def __init__(self, problem_Set, index):\n",
    "        self.instance = problem_Set.all_instance[index]\n",
    "        self.capacity = problem_Set.all_capacity[index]\n",
    "        self.item_num = problem_Set.all_item_num[index]\n",
    "        self.best_record = problem_Set.all_best_record[index]"
   ]
  },
  {
   "cell_type": "code",
   "execution_count": null,
   "id": "750db6d4",
   "metadata": {},
   "outputs": [],
   "source": []
  },
  {
   "cell_type": "code",
   "execution_count": null,
   "id": "5dea2db9",
   "metadata": {},
   "outputs": [],
   "source": [
    "    def perform_local_search(self, solution, neighbourhood_index):\n",
    "        total_times = 0\n",
    "        no_improve_times = 0\n",
    "\n",
    "        while (no_improve_times < 20) and (total_times < math.pow(len(solution.bin_list), neighbourhood_index)):\n",
    "            total_times = total_times + 1\n",
    "            new_solution = copy.deepcopy(solution)\n",
    "            to_be_reput_item_list = []\n",
    "\n",
    "            # 生成neighbourhood_index个随机数对应bin的index\n",
    "            clear_bin_list = random.sample(range(0, len(new_solution.bin_list)), neighbourhood_index)\n",
    "\n",
    "\n",
    "            # 把这些bin里的item取出来合成一个list，把这些bin删掉\n",
    "            for clear_bin_index in clear_bin_list:\n",
    "                to_be_reput_item_list = to_be_reput_item_list + new_solution.bin_list[clear_bin_index].item_list\n",
    "            new_bin_list = []\n",
    "            for bin_index in range(len(new_solution.bin_list)):\n",
    "                if not(bin_index in clear_bin_list):\n",
    "                    new_bin_list.append(new_solution.bin_list[bin_index])\n",
    "            new_solution.bin_list = new_bin_list\n",
    "\n",
    "            # 把item分配掉\n",
    "            new_solution.bin_list = reput_item(to_be_reput_item_list, new_solution.bin_list, new_solution.problem)\n",
    "            new_solution.objective = len(new_solution.bin_list)\n",
    "            print(new_solution.objective)\n",
    "\n",
    "\n",
    "            # 如果有优化，则把当前solution作为下次开始的solution\n",
    "            if new_solution.objective < solution.objective:\n",
    "                solution = new_solution\n",
    "                no_improve_times = 0\n",
    "            else:\n",
    "                no_improve_times = no_improve_times + 1\n",
    "\n",
    "        return solution"
   ]
  }
 ],
 "metadata": {
  "kernelspec": {
   "display_name": "Python 3 (ipykernel)",
   "language": "python",
   "name": "python3"
  },
  "language_info": {
   "codemirror_mode": {
    "name": "ipython",
    "version": 3
   },
   "file_extension": ".py",
   "mimetype": "text/x-python",
   "name": "python",
   "nbconvert_exporter": "python",
   "pygments_lexer": "ipython3",
   "version": "3.9.7"
  }
 },
 "nbformat": 4,
 "nbformat_minor": 5
}
